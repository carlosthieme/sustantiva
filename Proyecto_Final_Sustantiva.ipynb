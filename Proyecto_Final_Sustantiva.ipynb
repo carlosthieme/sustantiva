{
  "nbformat": 4,
  "nbformat_minor": 0,
  "metadata": {
    "colab": {
      "name": "Proyecto_Final_Sustantiva.ipynb",
      "provenance": [],
      "collapsed_sections": [],
      "authorship_tag": "ABX9TyMjZbiFsuPD5O5DtWi/ehTz",
      "include_colab_link": true
    },
    "kernelspec": {
      "name": "python3",
      "display_name": "Python 3"
    },
    "language_info": {
      "name": "python"
    }
  },
  "cells": [
    {
      "cell_type": "markdown",
      "metadata": {
        "id": "view-in-github",
        "colab_type": "text"
      },
      "source": [
        "<a href=\"https://colab.research.google.com/github/carlosthieme/sustantiva/blob/main/Proyecto_Final_Sustantiva.ipynb\" target=\"_parent\"><img src=\"https://colab.research.google.com/assets/colab-badge.svg\" alt=\"Open In Colab\"/></a>"
      ]
    },
    {
      "cell_type": "markdown",
      "source": [
        "## Curso Análisis de Datos - Sustantiva\n",
        "## Evaluación Final. \n",
        "\n",
        "***Carlos Thieme Badilla***"
      ],
      "metadata": {
        "id": "_m1kaPS8xy4a"
      }
    },
    {
      "cell_type": "markdown",
      "source": [
        "![eda.jpg](data:image/jpeg;base64,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)"
      ],
      "metadata": {
        "id": "PMcm9KE23K5G"
      }
    },
    {
      "cell_type": "markdown",
      "source": [
        "El  análisis  exploratorio  de  datos  o  EDA (por  sus  siglas  en  inglés)  consiste  en  comprender  los \n",
        "conjuntos  de  datos  resumiendo  sus  características  principales,  a  menudo  representándolas \n",
        "visualmente. Este paso es muy importante sobre todo cuando llegamos a modelar los datos para \n",
        "poder  aplicar  Machine  learning. El  trazado  en  EDA  consta  de  histogramas,  diagramas  de  caja, \n",
        "diagramas de dispersión y muchos más. A menudo lleva mucho tiempo explorar los datos. A través \n",
        "del proceso de EDA,  de puede pedir que se defina la declaración o definición del problema en \n",
        "nuestro conjunto de datos, lo cual es muy importante."
      ],
      "metadata": {
        "id": "hMQRgzcVK7d8"
      }
    },
    {
      "cell_type": "markdown",
      "source": [
        "Se usará un conjunto de datos de autos de Kaggle. Este brinda  una breve información sobre el \n",
        "conjunto  de  datos,  el  cual  está  compuesta  de  más  de  10  000  filas  y  más  de  10  columnas  que \n",
        "contienen características del automóvil, como Tipo de combustible del motor, Tamaño del motor, \n",
        "HP, Tipo de transmisión, MPG en carretera, MPG en ciudad y muchos más."
      ],
      "metadata": {
        "id": "kTGESby9LgHJ"
      }
    },
    {
      "cell_type": "markdown",
      "source": [
        "❖ ***Importación de librerías necesarias***"
      ],
      "metadata": {
        "id": "CgIcxWRlNKQQ"
      }
    },
    {
      "cell_type": "code",
      "source": [
        "import pandas as pd\n",
        "import numpy as np\n",
        "import seaborn as sns                       \n",
        "import matplotlib.pyplot as plt             \n",
        "%matplotlib inline     \n",
        "sns.set(color_codes=True)\n",
        "import warnings\n",
        "warnings.simplefilter(action='ignore', category=FutureWarning)"
      ],
      "metadata": {
        "id": "rseXA2gKNXT6"
      },
      "execution_count": 35,
      "outputs": []
    },
    {
      "cell_type": "markdown",
      "source": [
        "❖ ***Carga de datos desde un archivo en disco***"
      ],
      "metadata": {
        "id": "RB5ReoPCOon-"
      }
    },
    {
      "cell_type": "code",
      "execution_count": 2,
      "metadata": {
        "colab": {
          "base_uri": "https://localhost:8080/",
          "height": 73,
          "resources": {
            "http://localhost:8080/nbextensions/google.colab/files.js": {
              "data": "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",
              "ok": true,
              "headers": [
                [
                  "content-type",
                  "application/javascript"
                ]
              ],
              "status": 200,
              "status_text": ""
            }
          }
        },
        "id": "KTp5neN6tONM",
        "outputId": "84e5645c-0581-476a-d3a3-d556129d17f9"
      },
      "outputs": [
        {
          "output_type": "display_data",
          "data": {
            "text/plain": [
              "<IPython.core.display.HTML object>"
            ],
            "text/html": [
              "\n",
              "     <input type=\"file\" id=\"files-da49b0f3-6e66-4cc6-a882-626c99da5308\" name=\"files[]\" multiple disabled\n",
              "        style=\"border:none\" />\n",
              "     <output id=\"result-da49b0f3-6e66-4cc6-a882-626c99da5308\">\n",
              "      Upload widget is only available when the cell has been executed in the\n",
              "      current browser session. Please rerun this cell to enable.\n",
              "      </output>\n",
              "      <script src=\"/nbextensions/google.colab/files.js\"></script> "
            ]
          },
          "metadata": {}
        },
        {
          "output_type": "stream",
          "name": "stdout",
          "text": [
            "Saving Cardataset.csv to Cardataset.csv\n"
          ]
        }
      ],
      "source": [
        "from google.colab import files\n",
        "uploaded = files.upload()\n"
      ]
    },
    {
      "cell_type": "markdown",
      "source": [
        "❖ ***Asignación de los datos del archivo a un dataframe***"
      ],
      "metadata": {
        "id": "4HRaGDbxPZRD"
      }
    },
    {
      "cell_type": "code",
      "source": [
        "df = pd.read_csv(\"Cardataset.csv\")"
      ],
      "metadata": {
        "id": "g7QivS2TO-ED"
      },
      "execution_count": 3,
      "outputs": []
    },
    {
      "cell_type": "markdown",
      "source": [
        "❖ ***Se muestran los 10 primeros registros***"
      ],
      "metadata": {
        "id": "42TO_g5lP1vq"
      }
    },
    {
      "cell_type": "code",
      "source": [
        "df.head(10)"
      ],
      "metadata": {
        "colab": {
          "base_uri": "https://localhost:8080/",
          "height": 771
        },
        "id": "2mC5gMK6QUGa",
        "outputId": "0c4bf585-8374-4a29-8aed-6888b3b7c919"
      },
      "execution_count": 6,
      "outputs": [
        {
          "output_type": "execute_result",
          "data": {
            "text/plain": [
              "  Make       Model  Year             Engine Fuel Type  Engine HP  \\\n",
              "0  BMW  1 Series M  2011  premium unleaded (required)      335.0   \n",
              "1  BMW    1 Series  2011  premium unleaded (required)      300.0   \n",
              "2  BMW    1 Series  2011  premium unleaded (required)      300.0   \n",
              "3  BMW    1 Series  2011  premium unleaded (required)      230.0   \n",
              "4  BMW    1 Series  2011  premium unleaded (required)      230.0   \n",
              "5  BMW    1 Series  2012  premium unleaded (required)      230.0   \n",
              "6  BMW    1 Series  2012  premium unleaded (required)      300.0   \n",
              "7  BMW    1 Series  2012  premium unleaded (required)      300.0   \n",
              "8  BMW    1 Series  2012  premium unleaded (required)      230.0   \n",
              "9  BMW    1 Series  2013  premium unleaded (required)      230.0   \n",
              "\n",
              "   Engine Cylinders Transmission Type     Driven_Wheels  Number of Doors  \\\n",
              "0               6.0            MANUAL  rear wheel drive              2.0   \n",
              "1               6.0            MANUAL  rear wheel drive              2.0   \n",
              "2               6.0            MANUAL  rear wheel drive              2.0   \n",
              "3               6.0            MANUAL  rear wheel drive              2.0   \n",
              "4               6.0            MANUAL  rear wheel drive              2.0   \n",
              "5               6.0            MANUAL  rear wheel drive              2.0   \n",
              "6               6.0            MANUAL  rear wheel drive              2.0   \n",
              "7               6.0            MANUAL  rear wheel drive              2.0   \n",
              "8               6.0            MANUAL  rear wheel drive              2.0   \n",
              "9               6.0            MANUAL  rear wheel drive              2.0   \n",
              "\n",
              "                         Market Category Vehicle Size Vehicle Style  \\\n",
              "0  Factory Tuner,Luxury,High-Performance      Compact         Coupe   \n",
              "1                     Luxury,Performance      Compact   Convertible   \n",
              "2                Luxury,High-Performance      Compact         Coupe   \n",
              "3                     Luxury,Performance      Compact         Coupe   \n",
              "4                                 Luxury      Compact   Convertible   \n",
              "5                     Luxury,Performance      Compact         Coupe   \n",
              "6                     Luxury,Performance      Compact   Convertible   \n",
              "7                Luxury,High-Performance      Compact         Coupe   \n",
              "8                                 Luxury      Compact   Convertible   \n",
              "9                                 Luxury      Compact   Convertible   \n",
              "\n",
              "   highway MPG  city mpg  Popularity   MSRP  \n",
              "0           26        19        3916  46135  \n",
              "1           28        19        3916  40650  \n",
              "2           28        20        3916  36350  \n",
              "3           28        18        3916  29450  \n",
              "4           28        18        3916  34500  \n",
              "5           28        18        3916  31200  \n",
              "6           26        17        3916  44100  \n",
              "7           28        20        3916  39300  \n",
              "8           28        18        3916  36900  \n",
              "9           27        18        3916  37200  "
            ],
            "text/html": [
              "\n",
              "  <div id=\"df-de72f8fd-a380-4bb1-bc0d-77ce06ef220e\">\n",
              "    <div class=\"colab-df-container\">\n",
              "      <div>\n",
              "<style scoped>\n",
              "    .dataframe tbody tr th:only-of-type {\n",
              "        vertical-align: middle;\n",
              "    }\n",
              "\n",
              "    .dataframe tbody tr th {\n",
              "        vertical-align: top;\n",
              "    }\n",
              "\n",
              "    .dataframe thead th {\n",
              "        text-align: right;\n",
              "    }\n",
              "</style>\n",
              "<table border=\"1\" class=\"dataframe\">\n",
              "  <thead>\n",
              "    <tr style=\"text-align: right;\">\n",
              "      <th></th>\n",
              "      <th>Make</th>\n",
              "      <th>Model</th>\n",
              "      <th>Year</th>\n",
              "      <th>Engine Fuel Type</th>\n",
              "      <th>Engine HP</th>\n",
              "      <th>Engine Cylinders</th>\n",
              "      <th>Transmission Type</th>\n",
              "      <th>Driven_Wheels</th>\n",
              "      <th>Number of Doors</th>\n",
              "      <th>Market Category</th>\n",
              "      <th>Vehicle Size</th>\n",
              "      <th>Vehicle Style</th>\n",
              "      <th>highway MPG</th>\n",
              "      <th>city mpg</th>\n",
              "      <th>Popularity</th>\n",
              "      <th>MSRP</th>\n",
              "    </tr>\n",
              "  </thead>\n",
              "  <tbody>\n",
              "    <tr>\n",
              "      <th>0</th>\n",
              "      <td>BMW</td>\n",
              "      <td>1 Series M</td>\n",
              "      <td>2011</td>\n",
              "      <td>premium unleaded (required)</td>\n",
              "      <td>335.0</td>\n",
              "      <td>6.0</td>\n",
              "      <td>MANUAL</td>\n",
              "      <td>rear wheel drive</td>\n",
              "      <td>2.0</td>\n",
              "      <td>Factory Tuner,Luxury,High-Performance</td>\n",
              "      <td>Compact</td>\n",
              "      <td>Coupe</td>\n",
              "      <td>26</td>\n",
              "      <td>19</td>\n",
              "      <td>3916</td>\n",
              "      <td>46135</td>\n",
              "    </tr>\n",
              "    <tr>\n",
              "      <th>1</th>\n",
              "      <td>BMW</td>\n",
              "      <td>1 Series</td>\n",
              "      <td>2011</td>\n",
              "      <td>premium unleaded (required)</td>\n",
              "      <td>300.0</td>\n",
              "      <td>6.0</td>\n",
              "      <td>MANUAL</td>\n",
              "      <td>rear wheel drive</td>\n",
              "      <td>2.0</td>\n",
              "      <td>Luxury,Performance</td>\n",
              "      <td>Compact</td>\n",
              "      <td>Convertible</td>\n",
              "      <td>28</td>\n",
              "      <td>19</td>\n",
              "      <td>3916</td>\n",
              "      <td>40650</td>\n",
              "    </tr>\n",
              "    <tr>\n",
              "      <th>2</th>\n",
              "      <td>BMW</td>\n",
              "      <td>1 Series</td>\n",
              "      <td>2011</td>\n",
              "      <td>premium unleaded (required)</td>\n",
              "      <td>300.0</td>\n",
              "      <td>6.0</td>\n",
              "      <td>MANUAL</td>\n",
              "      <td>rear wheel drive</td>\n",
              "      <td>2.0</td>\n",
              "      <td>Luxury,High-Performance</td>\n",
              "      <td>Compact</td>\n",
              "      <td>Coupe</td>\n",
              "      <td>28</td>\n",
              "      <td>20</td>\n",
              "      <td>3916</td>\n",
              "      <td>36350</td>\n",
              "    </tr>\n",
              "    <tr>\n",
              "      <th>3</th>\n",
              "      <td>BMW</td>\n",
              "      <td>1 Series</td>\n",
              "      <td>2011</td>\n",
              "      <td>premium unleaded (required)</td>\n",
              "      <td>230.0</td>\n",
              "      <td>6.0</td>\n",
              "      <td>MANUAL</td>\n",
              "      <td>rear wheel drive</td>\n",
              "      <td>2.0</td>\n",
              "      <td>Luxury,Performance</td>\n",
              "      <td>Compact</td>\n",
              "      <td>Coupe</td>\n",
              "      <td>28</td>\n",
              "      <td>18</td>\n",
              "      <td>3916</td>\n",
              "      <td>29450</td>\n",
              "    </tr>\n",
              "    <tr>\n",
              "      <th>4</th>\n",
              "      <td>BMW</td>\n",
              "      <td>1 Series</td>\n",
              "      <td>2011</td>\n",
              "      <td>premium unleaded (required)</td>\n",
              "      <td>230.0</td>\n",
              "      <td>6.0</td>\n",
              "      <td>MANUAL</td>\n",
              "      <td>rear wheel drive</td>\n",
              "      <td>2.0</td>\n",
              "      <td>Luxury</td>\n",
              "      <td>Compact</td>\n",
              "      <td>Convertible</td>\n",
              "      <td>28</td>\n",
              "      <td>18</td>\n",
              "      <td>3916</td>\n",
              "      <td>34500</td>\n",
              "    </tr>\n",
              "    <tr>\n",
              "      <th>5</th>\n",
              "      <td>BMW</td>\n",
              "      <td>1 Series</td>\n",
              "      <td>2012</td>\n",
              "      <td>premium unleaded (required)</td>\n",
              "      <td>230.0</td>\n",
              "      <td>6.0</td>\n",
              "      <td>MANUAL</td>\n",
              "      <td>rear wheel drive</td>\n",
              "      <td>2.0</td>\n",
              "      <td>Luxury,Performance</td>\n",
              "      <td>Compact</td>\n",
              "      <td>Coupe</td>\n",
              "      <td>28</td>\n",
              "      <td>18</td>\n",
              "      <td>3916</td>\n",
              "      <td>31200</td>\n",
              "    </tr>\n",
              "    <tr>\n",
              "      <th>6</th>\n",
              "      <td>BMW</td>\n",
              "      <td>1 Series</td>\n",
              "      <td>2012</td>\n",
              "      <td>premium unleaded (required)</td>\n",
              "      <td>300.0</td>\n",
              "      <td>6.0</td>\n",
              "      <td>MANUAL</td>\n",
              "      <td>rear wheel drive</td>\n",
              "      <td>2.0</td>\n",
              "      <td>Luxury,Performance</td>\n",
              "      <td>Compact</td>\n",
              "      <td>Convertible</td>\n",
              "      <td>26</td>\n",
              "      <td>17</td>\n",
              "      <td>3916</td>\n",
              "      <td>44100</td>\n",
              "    </tr>\n",
              "    <tr>\n",
              "      <th>7</th>\n",
              "      <td>BMW</td>\n",
              "      <td>1 Series</td>\n",
              "      <td>2012</td>\n",
              "      <td>premium unleaded (required)</td>\n",
              "      <td>300.0</td>\n",
              "      <td>6.0</td>\n",
              "      <td>MANUAL</td>\n",
              "      <td>rear wheel drive</td>\n",
              "      <td>2.0</td>\n",
              "      <td>Luxury,High-Performance</td>\n",
              "      <td>Compact</td>\n",
              "      <td>Coupe</td>\n",
              "      <td>28</td>\n",
              "      <td>20</td>\n",
              "      <td>3916</td>\n",
              "      <td>39300</td>\n",
              "    </tr>\n",
              "    <tr>\n",
              "      <th>8</th>\n",
              "      <td>BMW</td>\n",
              "      <td>1 Series</td>\n",
              "      <td>2012</td>\n",
              "      <td>premium unleaded (required)</td>\n",
              "      <td>230.0</td>\n",
              "      <td>6.0</td>\n",
              "      <td>MANUAL</td>\n",
              "      <td>rear wheel drive</td>\n",
              "      <td>2.0</td>\n",
              "      <td>Luxury</td>\n",
              "      <td>Compact</td>\n",
              "      <td>Convertible</td>\n",
              "      <td>28</td>\n",
              "      <td>18</td>\n",
              "      <td>3916</td>\n",
              "      <td>36900</td>\n",
              "    </tr>\n",
              "    <tr>\n",
              "      <th>9</th>\n",
              "      <td>BMW</td>\n",
              "      <td>1 Series</td>\n",
              "      <td>2013</td>\n",
              "      <td>premium unleaded (required)</td>\n",
              "      <td>230.0</td>\n",
              "      <td>6.0</td>\n",
              "      <td>MANUAL</td>\n",
              "      <td>rear wheel drive</td>\n",
              "      <td>2.0</td>\n",
              "      <td>Luxury</td>\n",
              "      <td>Compact</td>\n",
              "      <td>Convertible</td>\n",
              "      <td>27</td>\n",
              "      <td>18</td>\n",
              "      <td>3916</td>\n",
              "      <td>37200</td>\n",
              "    </tr>\n",
              "  </tbody>\n",
              "</table>\n",
              "</div>\n",
              "      <button class=\"colab-df-convert\" onclick=\"convertToInteractive('df-de72f8fd-a380-4bb1-bc0d-77ce06ef220e')\"\n",
              "              title=\"Convert this dataframe to an interactive table.\"\n",
              "              style=\"display:none;\">\n",
              "        \n",
              "  <svg xmlns=\"http://www.w3.org/2000/svg\" height=\"24px\"viewBox=\"0 0 24 24\"\n",
              "       width=\"24px\">\n",
              "    <path d=\"M0 0h24v24H0V0z\" fill=\"none\"/>\n",
              "    <path d=\"M18.56 5.44l.94 2.06.94-2.06 2.06-.94-2.06-.94-.94-2.06-.94 2.06-2.06.94zm-11 1L8.5 8.5l.94-2.06 2.06-.94-2.06-.94L8.5 2.5l-.94 2.06-2.06.94zm10 10l.94 2.06.94-2.06 2.06-.94-2.06-.94-.94-2.06-.94 2.06-2.06.94z\"/><path d=\"M17.41 7.96l-1.37-1.37c-.4-.4-.92-.59-1.43-.59-.52 0-1.04.2-1.43.59L10.3 9.45l-7.72 7.72c-.78.78-.78 2.05 0 2.83L4 21.41c.39.39.9.59 1.41.59.51 0 1.02-.2 1.41-.59l7.78-7.78 2.81-2.81c.8-.78.8-2.07 0-2.86zM5.41 20L4 18.59l7.72-7.72 1.47 1.35L5.41 20z\"/>\n",
              "  </svg>\n",
              "      </button>\n",
              "      \n",
              "  <style>\n",
              "    .colab-df-container {\n",
              "      display:flex;\n",
              "      flex-wrap:wrap;\n",
              "      gap: 12px;\n",
              "    }\n",
              "\n",
              "    .colab-df-convert {\n",
              "      background-color: #E8F0FE;\n",
              "      border: none;\n",
              "      border-radius: 50%;\n",
              "      cursor: pointer;\n",
              "      display: none;\n",
              "      fill: #1967D2;\n",
              "      height: 32px;\n",
              "      padding: 0 0 0 0;\n",
              "      width: 32px;\n",
              "    }\n",
              "\n",
              "    .colab-df-convert:hover {\n",
              "      background-color: #E2EBFA;\n",
              "      box-shadow: 0px 1px 2px rgba(60, 64, 67, 0.3), 0px 1px 3px 1px rgba(60, 64, 67, 0.15);\n",
              "      fill: #174EA6;\n",
              "    }\n",
              "\n",
              "    [theme=dark] .colab-df-convert {\n",
              "      background-color: #3B4455;\n",
              "      fill: #D2E3FC;\n",
              "    }\n",
              "\n",
              "    [theme=dark] .colab-df-convert:hover {\n",
              "      background-color: #434B5C;\n",
              "      box-shadow: 0px 1px 3px 1px rgba(0, 0, 0, 0.15);\n",
              "      filter: drop-shadow(0px 1px 2px rgba(0, 0, 0, 0.3));\n",
              "      fill: #FFFFFF;\n",
              "    }\n",
              "  </style>\n",
              "\n",
              "      <script>\n",
              "        const buttonEl =\n",
              "          document.querySelector('#df-de72f8fd-a380-4bb1-bc0d-77ce06ef220e button.colab-df-convert');\n",
              "        buttonEl.style.display =\n",
              "          google.colab.kernel.accessAllowed ? 'block' : 'none';\n",
              "\n",
              "        async function convertToInteractive(key) {\n",
              "          const element = document.querySelector('#df-de72f8fd-a380-4bb1-bc0d-77ce06ef220e');\n",
              "          const dataTable =\n",
              "            await google.colab.kernel.invokeFunction('convertToInteractive',\n",
              "                                                     [key], {});\n",
              "          if (!dataTable) return;\n",
              "\n",
              "          const docLinkHtml = 'Like what you see? Visit the ' +\n",
              "            '<a target=\"_blank\" href=https://colab.research.google.com/notebooks/data_table.ipynb>data table notebook</a>'\n",
              "            + ' to learn more about interactive tables.';\n",
              "          element.innerHTML = '';\n",
              "          dataTable['output_type'] = 'display_data';\n",
              "          await google.colab.output.renderOutput(dataTable, element);\n",
              "          const docLink = document.createElement('div');\n",
              "          docLink.innerHTML = docLinkHtml;\n",
              "          element.appendChild(docLink);\n",
              "        }\n",
              "      </script>\n",
              "    </div>\n",
              "  </div>\n",
              "  "
            ]
          },
          "metadata": {},
          "execution_count": 6
        }
      ]
    },
    {
      "cell_type": "markdown",
      "source": [
        "❖ ***Se muestran los últimos 10 registros***"
      ],
      "metadata": {
        "id": "gZvdKmxrQbZx"
      }
    },
    {
      "cell_type": "code",
      "source": [
        "df.tail(10)"
      ],
      "metadata": {
        "colab": {
          "base_uri": "https://localhost:8080/",
          "height": 771
        },
        "id": "Pifl-09pQaDR",
        "outputId": "2ea83a3a-b85e-486e-ab19-40ba00454e2b"
      },
      "execution_count": 7,
      "outputs": [
        {
          "output_type": "execute_result",
          "data": {
            "text/plain": [
              "          Make   Model  Year                Engine Fuel Type  Engine HP  \\\n",
              "11904      BMW      Z8  2002     premium unleaded (required)      394.0   \n",
              "11905      BMW      Z8  2003     premium unleaded (required)      394.0   \n",
              "11906    Acura     ZDX  2011     premium unleaded (required)      300.0   \n",
              "11907    Acura     ZDX  2011     premium unleaded (required)      300.0   \n",
              "11908    Acura     ZDX  2011     premium unleaded (required)      300.0   \n",
              "11909    Acura     ZDX  2012     premium unleaded (required)      300.0   \n",
              "11910    Acura     ZDX  2012     premium unleaded (required)      300.0   \n",
              "11911    Acura     ZDX  2012     premium unleaded (required)      300.0   \n",
              "11912    Acura     ZDX  2013  premium unleaded (recommended)      300.0   \n",
              "11913  Lincoln  Zephyr  2006                regular unleaded      221.0   \n",
              "\n",
              "       Engine Cylinders Transmission Type      Driven_Wheels  Number of Doors  \\\n",
              "11904               8.0            MANUAL   rear wheel drive              2.0   \n",
              "11905               8.0            MANUAL   rear wheel drive              2.0   \n",
              "11906               6.0         AUTOMATIC    all wheel drive              4.0   \n",
              "11907               6.0         AUTOMATIC    all wheel drive              4.0   \n",
              "11908               6.0         AUTOMATIC    all wheel drive              4.0   \n",
              "11909               6.0         AUTOMATIC    all wheel drive              4.0   \n",
              "11910               6.0         AUTOMATIC    all wheel drive              4.0   \n",
              "11911               6.0         AUTOMATIC    all wheel drive              4.0   \n",
              "11912               6.0         AUTOMATIC    all wheel drive              4.0   \n",
              "11913               6.0         AUTOMATIC  front wheel drive              4.0   \n",
              "\n",
              "                      Market Category Vehicle Size  Vehicle Style  \\\n",
              "11904  Exotic,Luxury,High-Performance      Compact    Convertible   \n",
              "11905  Exotic,Luxury,High-Performance      Compact    Convertible   \n",
              "11906      Crossover,Hatchback,Luxury      Midsize  4dr Hatchback   \n",
              "11907      Crossover,Hatchback,Luxury      Midsize  4dr Hatchback   \n",
              "11908      Crossover,Hatchback,Luxury      Midsize  4dr Hatchback   \n",
              "11909      Crossover,Hatchback,Luxury      Midsize  4dr Hatchback   \n",
              "11910      Crossover,Hatchback,Luxury      Midsize  4dr Hatchback   \n",
              "11911      Crossover,Hatchback,Luxury      Midsize  4dr Hatchback   \n",
              "11912      Crossover,Hatchback,Luxury      Midsize  4dr Hatchback   \n",
              "11913                          Luxury      Midsize          Sedan   \n",
              "\n",
              "       highway MPG  city mpg  Popularity    MSRP  \n",
              "11904           19        12        3916  130000  \n",
              "11905           19        12        3916  131500  \n",
              "11906           23        16         204   46020  \n",
              "11907           23        16         204   56570  \n",
              "11908           23        16         204   50520  \n",
              "11909           23        16         204   46120  \n",
              "11910           23        16         204   56670  \n",
              "11911           23        16         204   50620  \n",
              "11912           23        16         204   50920  \n",
              "11913           26        17          61   28995  "
            ],
            "text/html": [
              "\n",
              "  <div id=\"df-f691e37b-551b-4cb3-8008-df4106a445c2\">\n",
              "    <div class=\"colab-df-container\">\n",
              "      <div>\n",
              "<style scoped>\n",
              "    .dataframe tbody tr th:only-of-type {\n",
              "        vertical-align: middle;\n",
              "    }\n",
              "\n",
              "    .dataframe tbody tr th {\n",
              "        vertical-align: top;\n",
              "    }\n",
              "\n",
              "    .dataframe thead th {\n",
              "        text-align: right;\n",
              "    }\n",
              "</style>\n",
              "<table border=\"1\" class=\"dataframe\">\n",
              "  <thead>\n",
              "    <tr style=\"text-align: right;\">\n",
              "      <th></th>\n",
              "      <th>Make</th>\n",
              "      <th>Model</th>\n",
              "      <th>Year</th>\n",
              "      <th>Engine Fuel Type</th>\n",
              "      <th>Engine HP</th>\n",
              "      <th>Engine Cylinders</th>\n",
              "      <th>Transmission Type</th>\n",
              "      <th>Driven_Wheels</th>\n",
              "      <th>Number of Doors</th>\n",
              "      <th>Market Category</th>\n",
              "      <th>Vehicle Size</th>\n",
              "      <th>Vehicle Style</th>\n",
              "      <th>highway MPG</th>\n",
              "      <th>city mpg</th>\n",
              "      <th>Popularity</th>\n",
              "      <th>MSRP</th>\n",
              "    </tr>\n",
              "  </thead>\n",
              "  <tbody>\n",
              "    <tr>\n",
              "      <th>11904</th>\n",
              "      <td>BMW</td>\n",
              "      <td>Z8</td>\n",
              "      <td>2002</td>\n",
              "      <td>premium unleaded (required)</td>\n",
              "      <td>394.0</td>\n",
              "      <td>8.0</td>\n",
              "      <td>MANUAL</td>\n",
              "      <td>rear wheel drive</td>\n",
              "      <td>2.0</td>\n",
              "      <td>Exotic,Luxury,High-Performance</td>\n",
              "      <td>Compact</td>\n",
              "      <td>Convertible</td>\n",
              "      <td>19</td>\n",
              "      <td>12</td>\n",
              "      <td>3916</td>\n",
              "      <td>130000</td>\n",
              "    </tr>\n",
              "    <tr>\n",
              "      <th>11905</th>\n",
              "      <td>BMW</td>\n",
              "      <td>Z8</td>\n",
              "      <td>2003</td>\n",
              "      <td>premium unleaded (required)</td>\n",
              "      <td>394.0</td>\n",
              "      <td>8.0</td>\n",
              "      <td>MANUAL</td>\n",
              "      <td>rear wheel drive</td>\n",
              "      <td>2.0</td>\n",
              "      <td>Exotic,Luxury,High-Performance</td>\n",
              "      <td>Compact</td>\n",
              "      <td>Convertible</td>\n",
              "      <td>19</td>\n",
              "      <td>12</td>\n",
              "      <td>3916</td>\n",
              "      <td>131500</td>\n",
              "    </tr>\n",
              "    <tr>\n",
              "      <th>11906</th>\n",
              "      <td>Acura</td>\n",
              "      <td>ZDX</td>\n",
              "      <td>2011</td>\n",
              "      <td>premium unleaded (required)</td>\n",
              "      <td>300.0</td>\n",
              "      <td>6.0</td>\n",
              "      <td>AUTOMATIC</td>\n",
              "      <td>all wheel drive</td>\n",
              "      <td>4.0</td>\n",
              "      <td>Crossover,Hatchback,Luxury</td>\n",
              "      <td>Midsize</td>\n",
              "      <td>4dr Hatchback</td>\n",
              "      <td>23</td>\n",
              "      <td>16</td>\n",
              "      <td>204</td>\n",
              "      <td>46020</td>\n",
              "    </tr>\n",
              "    <tr>\n",
              "      <th>11907</th>\n",
              "      <td>Acura</td>\n",
              "      <td>ZDX</td>\n",
              "      <td>2011</td>\n",
              "      <td>premium unleaded (required)</td>\n",
              "      <td>300.0</td>\n",
              "      <td>6.0</td>\n",
              "      <td>AUTOMATIC</td>\n",
              "      <td>all wheel drive</td>\n",
              "      <td>4.0</td>\n",
              "      <td>Crossover,Hatchback,Luxury</td>\n",
              "      <td>Midsize</td>\n",
              "      <td>4dr Hatchback</td>\n",
              "      <td>23</td>\n",
              "      <td>16</td>\n",
              "      <td>204</td>\n",
              "      <td>56570</td>\n",
              "    </tr>\n",
              "    <tr>\n",
              "      <th>11908</th>\n",
              "      <td>Acura</td>\n",
              "      <td>ZDX</td>\n",
              "      <td>2011</td>\n",
              "      <td>premium unleaded (required)</td>\n",
              "      <td>300.0</td>\n",
              "      <td>6.0</td>\n",
              "      <td>AUTOMATIC</td>\n",
              "      <td>all wheel drive</td>\n",
              "      <td>4.0</td>\n",
              "      <td>Crossover,Hatchback,Luxury</td>\n",
              "      <td>Midsize</td>\n",
              "      <td>4dr Hatchback</td>\n",
              "      <td>23</td>\n",
              "      <td>16</td>\n",
              "      <td>204</td>\n",
              "      <td>50520</td>\n",
              "    </tr>\n",
              "    <tr>\n",
              "      <th>11909</th>\n",
              "      <td>Acura</td>\n",
              "      <td>ZDX</td>\n",
              "      <td>2012</td>\n",
              "      <td>premium unleaded (required)</td>\n",
              "      <td>300.0</td>\n",
              "      <td>6.0</td>\n",
              "      <td>AUTOMATIC</td>\n",
              "      <td>all wheel drive</td>\n",
              "      <td>4.0</td>\n",
              "      <td>Crossover,Hatchback,Luxury</td>\n",
              "      <td>Midsize</td>\n",
              "      <td>4dr Hatchback</td>\n",
              "      <td>23</td>\n",
              "      <td>16</td>\n",
              "      <td>204</td>\n",
              "      <td>46120</td>\n",
              "    </tr>\n",
              "    <tr>\n",
              "      <th>11910</th>\n",
              "      <td>Acura</td>\n",
              "      <td>ZDX</td>\n",
              "      <td>2012</td>\n",
              "      <td>premium unleaded (required)</td>\n",
              "      <td>300.0</td>\n",
              "      <td>6.0</td>\n",
              "      <td>AUTOMATIC</td>\n",
              "      <td>all wheel drive</td>\n",
              "      <td>4.0</td>\n",
              "      <td>Crossover,Hatchback,Luxury</td>\n",
              "      <td>Midsize</td>\n",
              "      <td>4dr Hatchback</td>\n",
              "      <td>23</td>\n",
              "      <td>16</td>\n",
              "      <td>204</td>\n",
              "      <td>56670</td>\n",
              "    </tr>\n",
              "    <tr>\n",
              "      <th>11911</th>\n",
              "      <td>Acura</td>\n",
              "      <td>ZDX</td>\n",
              "      <td>2012</td>\n",
              "      <td>premium unleaded (required)</td>\n",
              "      <td>300.0</td>\n",
              "      <td>6.0</td>\n",
              "      <td>AUTOMATIC</td>\n",
              "      <td>all wheel drive</td>\n",
              "      <td>4.0</td>\n",
              "      <td>Crossover,Hatchback,Luxury</td>\n",
              "      <td>Midsize</td>\n",
              "      <td>4dr Hatchback</td>\n",
              "      <td>23</td>\n",
              "      <td>16</td>\n",
              "      <td>204</td>\n",
              "      <td>50620</td>\n",
              "    </tr>\n",
              "    <tr>\n",
              "      <th>11912</th>\n",
              "      <td>Acura</td>\n",
              "      <td>ZDX</td>\n",
              "      <td>2013</td>\n",
              "      <td>premium unleaded (recommended)</td>\n",
              "      <td>300.0</td>\n",
              "      <td>6.0</td>\n",
              "      <td>AUTOMATIC</td>\n",
              "      <td>all wheel drive</td>\n",
              "      <td>4.0</td>\n",
              "      <td>Crossover,Hatchback,Luxury</td>\n",
              "      <td>Midsize</td>\n",
              "      <td>4dr Hatchback</td>\n",
              "      <td>23</td>\n",
              "      <td>16</td>\n",
              "      <td>204</td>\n",
              "      <td>50920</td>\n",
              "    </tr>\n",
              "    <tr>\n",
              "      <th>11913</th>\n",
              "      <td>Lincoln</td>\n",
              "      <td>Zephyr</td>\n",
              "      <td>2006</td>\n",
              "      <td>regular unleaded</td>\n",
              "      <td>221.0</td>\n",
              "      <td>6.0</td>\n",
              "      <td>AUTOMATIC</td>\n",
              "      <td>front wheel drive</td>\n",
              "      <td>4.0</td>\n",
              "      <td>Luxury</td>\n",
              "      <td>Midsize</td>\n",
              "      <td>Sedan</td>\n",
              "      <td>26</td>\n",
              "      <td>17</td>\n",
              "      <td>61</td>\n",
              "      <td>28995</td>\n",
              "    </tr>\n",
              "  </tbody>\n",
              "</table>\n",
              "</div>\n",
              "      <button class=\"colab-df-convert\" onclick=\"convertToInteractive('df-f691e37b-551b-4cb3-8008-df4106a445c2')\"\n",
              "              title=\"Convert this dataframe to an interactive table.\"\n",
              "              style=\"display:none;\">\n",
              "        \n",
              "  <svg xmlns=\"http://www.w3.org/2000/svg\" height=\"24px\"viewBox=\"0 0 24 24\"\n",
              "       width=\"24px\">\n",
              "    <path d=\"M0 0h24v24H0V0z\" fill=\"none\"/>\n",
              "    <path d=\"M18.56 5.44l.94 2.06.94-2.06 2.06-.94-2.06-.94-.94-2.06-.94 2.06-2.06.94zm-11 1L8.5 8.5l.94-2.06 2.06-.94-2.06-.94L8.5 2.5l-.94 2.06-2.06.94zm10 10l.94 2.06.94-2.06 2.06-.94-2.06-.94-.94-2.06-.94 2.06-2.06.94z\"/><path d=\"M17.41 7.96l-1.37-1.37c-.4-.4-.92-.59-1.43-.59-.52 0-1.04.2-1.43.59L10.3 9.45l-7.72 7.72c-.78.78-.78 2.05 0 2.83L4 21.41c.39.39.9.59 1.41.59.51 0 1.02-.2 1.41-.59l7.78-7.78 2.81-2.81c.8-.78.8-2.07 0-2.86zM5.41 20L4 18.59l7.72-7.72 1.47 1.35L5.41 20z\"/>\n",
              "  </svg>\n",
              "      </button>\n",
              "      \n",
              "  <style>\n",
              "    .colab-df-container {\n",
              "      display:flex;\n",
              "      flex-wrap:wrap;\n",
              "      gap: 12px;\n",
              "    }\n",
              "\n",
              "    .colab-df-convert {\n",
              "      background-color: #E8F0FE;\n",
              "      border: none;\n",
              "      border-radius: 50%;\n",
              "      cursor: pointer;\n",
              "      display: none;\n",
              "      fill: #1967D2;\n",
              "      height: 32px;\n",
              "      padding: 0 0 0 0;\n",
              "      width: 32px;\n",
              "    }\n",
              "\n",
              "    .colab-df-convert:hover {\n",
              "      background-color: #E2EBFA;\n",
              "      box-shadow: 0px 1px 2px rgba(60, 64, 67, 0.3), 0px 1px 3px 1px rgba(60, 64, 67, 0.15);\n",
              "      fill: #174EA6;\n",
              "    }\n",
              "\n",
              "    [theme=dark] .colab-df-convert {\n",
              "      background-color: #3B4455;\n",
              "      fill: #D2E3FC;\n",
              "    }\n",
              "\n",
              "    [theme=dark] .colab-df-convert:hover {\n",
              "      background-color: #434B5C;\n",
              "      box-shadow: 0px 1px 3px 1px rgba(0, 0, 0, 0.15);\n",
              "      filter: drop-shadow(0px 1px 2px rgba(0, 0, 0, 0.3));\n",
              "      fill: #FFFFFF;\n",
              "    }\n",
              "  </style>\n",
              "\n",
              "      <script>\n",
              "        const buttonEl =\n",
              "          document.querySelector('#df-f691e37b-551b-4cb3-8008-df4106a445c2 button.colab-df-convert');\n",
              "        buttonEl.style.display =\n",
              "          google.colab.kernel.accessAllowed ? 'block' : 'none';\n",
              "\n",
              "        async function convertToInteractive(key) {\n",
              "          const element = document.querySelector('#df-f691e37b-551b-4cb3-8008-df4106a445c2');\n",
              "          const dataTable =\n",
              "            await google.colab.kernel.invokeFunction('convertToInteractive',\n",
              "                                                     [key], {});\n",
              "          if (!dataTable) return;\n",
              "\n",
              "          const docLinkHtml = 'Like what you see? Visit the ' +\n",
              "            '<a target=\"_blank\" href=https://colab.research.google.com/notebooks/data_table.ipynb>data table notebook</a>'\n",
              "            + ' to learn more about interactive tables.';\n",
              "          element.innerHTML = '';\n",
              "          dataTable['output_type'] = 'display_data';\n",
              "          await google.colab.output.renderOutput(dataTable, element);\n",
              "          const docLink = document.createElement('div');\n",
              "          docLink.innerHTML = docLinkHtml;\n",
              "          element.appendChild(docLink);\n",
              "        }\n",
              "      </script>\n",
              "    </div>\n",
              "  </div>\n",
              "  "
            ]
          },
          "metadata": {},
          "execution_count": 7
        }
      ]
    },
    {
      "cell_type": "markdown",
      "source": [
        "❖ ***Revisión de los tipos de datos.***\n",
        "Se revisan los tipos de datos a fin de verificar que no existan valores numéricos en campos de tipo texto."
      ],
      "metadata": {
        "id": "vSxlJa7Tad8w"
      }
    },
    {
      "cell_type": "code",
      "source": [
        "df.dtypes"
      ],
      "metadata": {
        "colab": {
          "base_uri": "https://localhost:8080/"
        },
        "id": "6hO9-xLqaxPR",
        "outputId": "296979cc-68d5-466b-f905-2d71ea663e48"
      },
      "execution_count": 8,
      "outputs": [
        {
          "output_type": "execute_result",
          "data": {
            "text/plain": [
              "Make                  object\n",
              "Model                 object\n",
              "Year                   int64\n",
              "Engine Fuel Type      object\n",
              "Engine HP            float64\n",
              "Engine Cylinders     float64\n",
              "Transmission Type     object\n",
              "Driven_Wheels         object\n",
              "Number of Doors      float64\n",
              "Market Category       object\n",
              "Vehicle Size          object\n",
              "Vehicle Style         object\n",
              "highway MPG            int64\n",
              "city mpg               int64\n",
              "Popularity             int64\n",
              "MSRP                   int64\n",
              "dtype: object"
            ]
          },
          "metadata": {},
          "execution_count": 8
        }
      ]
    },
    {
      "cell_type": "markdown",
      "source": [
        "❖ ***Eliminar columnas innecesarias***\n",
        "Se eliminarán distintas columnas que no serán ocupadas en el análisis."
      ],
      "metadata": {
        "id": "hIOiLs5Ebqwj"
      }
    },
    {
      "cell_type": "code",
      "source": [
        "df = df.drop(['Engine Fuel Type', 'Market Category', 'Vehicle Size', 'Popularity', 'Number of Doors', 'highway MPG', 'city mpg'], axis=1)\n",
        "df.head(5)"
      ],
      "metadata": {
        "colab": {
          "base_uri": "https://localhost:8080/",
          "height": 206
        },
        "id": "GNdE9rX_b-LX",
        "outputId": "b6d3c2c6-2891-4c8d-8174-24aa34e05558"
      },
      "execution_count": 9,
      "outputs": [
        {
          "output_type": "execute_result",
          "data": {
            "text/plain": [
              "  Make       Model  Year  Engine HP  Engine Cylinders Transmission Type  \\\n",
              "0  BMW  1 Series M  2011      335.0               6.0            MANUAL   \n",
              "1  BMW    1 Series  2011      300.0               6.0            MANUAL   \n",
              "2  BMW    1 Series  2011      300.0               6.0            MANUAL   \n",
              "3  BMW    1 Series  2011      230.0               6.0            MANUAL   \n",
              "4  BMW    1 Series  2011      230.0               6.0            MANUAL   \n",
              "\n",
              "      Driven_Wheels Vehicle Style   MSRP  \n",
              "0  rear wheel drive         Coupe  46135  \n",
              "1  rear wheel drive   Convertible  40650  \n",
              "2  rear wheel drive         Coupe  36350  \n",
              "3  rear wheel drive         Coupe  29450  \n",
              "4  rear wheel drive   Convertible  34500  "
            ],
            "text/html": [
              "\n",
              "  <div id=\"df-3b0d1f3a-9769-4a82-af50-0cdfc92d730b\">\n",
              "    <div class=\"colab-df-container\">\n",
              "      <div>\n",
              "<style scoped>\n",
              "    .dataframe tbody tr th:only-of-type {\n",
              "        vertical-align: middle;\n",
              "    }\n",
              "\n",
              "    .dataframe tbody tr th {\n",
              "        vertical-align: top;\n",
              "    }\n",
              "\n",
              "    .dataframe thead th {\n",
              "        text-align: right;\n",
              "    }\n",
              "</style>\n",
              "<table border=\"1\" class=\"dataframe\">\n",
              "  <thead>\n",
              "    <tr style=\"text-align: right;\">\n",
              "      <th></th>\n",
              "      <th>Make</th>\n",
              "      <th>Model</th>\n",
              "      <th>Year</th>\n",
              "      <th>Engine HP</th>\n",
              "      <th>Engine Cylinders</th>\n",
              "      <th>Transmission Type</th>\n",
              "      <th>Driven_Wheels</th>\n",
              "      <th>Vehicle Style</th>\n",
              "      <th>MSRP</th>\n",
              "    </tr>\n",
              "  </thead>\n",
              "  <tbody>\n",
              "    <tr>\n",
              "      <th>0</th>\n",
              "      <td>BMW</td>\n",
              "      <td>1 Series M</td>\n",
              "      <td>2011</td>\n",
              "      <td>335.0</td>\n",
              "      <td>6.0</td>\n",
              "      <td>MANUAL</td>\n",
              "      <td>rear wheel drive</td>\n",
              "      <td>Coupe</td>\n",
              "      <td>46135</td>\n",
              "    </tr>\n",
              "    <tr>\n",
              "      <th>1</th>\n",
              "      <td>BMW</td>\n",
              "      <td>1 Series</td>\n",
              "      <td>2011</td>\n",
              "      <td>300.0</td>\n",
              "      <td>6.0</td>\n",
              "      <td>MANUAL</td>\n",
              "      <td>rear wheel drive</td>\n",
              "      <td>Convertible</td>\n",
              "      <td>40650</td>\n",
              "    </tr>\n",
              "    <tr>\n",
              "      <th>2</th>\n",
              "      <td>BMW</td>\n",
              "      <td>1 Series</td>\n",
              "      <td>2011</td>\n",
              "      <td>300.0</td>\n",
              "      <td>6.0</td>\n",
              "      <td>MANUAL</td>\n",
              "      <td>rear wheel drive</td>\n",
              "      <td>Coupe</td>\n",
              "      <td>36350</td>\n",
              "    </tr>\n",
              "    <tr>\n",
              "      <th>3</th>\n",
              "      <td>BMW</td>\n",
              "      <td>1 Series</td>\n",
              "      <td>2011</td>\n",
              "      <td>230.0</td>\n",
              "      <td>6.0</td>\n",
              "      <td>MANUAL</td>\n",
              "      <td>rear wheel drive</td>\n",
              "      <td>Coupe</td>\n",
              "      <td>29450</td>\n",
              "    </tr>\n",
              "    <tr>\n",
              "      <th>4</th>\n",
              "      <td>BMW</td>\n",
              "      <td>1 Series</td>\n",
              "      <td>2011</td>\n",
              "      <td>230.0</td>\n",
              "      <td>6.0</td>\n",
              "      <td>MANUAL</td>\n",
              "      <td>rear wheel drive</td>\n",
              "      <td>Convertible</td>\n",
              "      <td>34500</td>\n",
              "    </tr>\n",
              "  </tbody>\n",
              "</table>\n",
              "</div>\n",
              "      <button class=\"colab-df-convert\" onclick=\"convertToInteractive('df-3b0d1f3a-9769-4a82-af50-0cdfc92d730b')\"\n",
              "              title=\"Convert this dataframe to an interactive table.\"\n",
              "              style=\"display:none;\">\n",
              "        \n",
              "  <svg xmlns=\"http://www.w3.org/2000/svg\" height=\"24px\"viewBox=\"0 0 24 24\"\n",
              "       width=\"24px\">\n",
              "    <path d=\"M0 0h24v24H0V0z\" fill=\"none\"/>\n",
              "    <path d=\"M18.56 5.44l.94 2.06.94-2.06 2.06-.94-2.06-.94-.94-2.06-.94 2.06-2.06.94zm-11 1L8.5 8.5l.94-2.06 2.06-.94-2.06-.94L8.5 2.5l-.94 2.06-2.06.94zm10 10l.94 2.06.94-2.06 2.06-.94-2.06-.94-.94-2.06-.94 2.06-2.06.94z\"/><path d=\"M17.41 7.96l-1.37-1.37c-.4-.4-.92-.59-1.43-.59-.52 0-1.04.2-1.43.59L10.3 9.45l-7.72 7.72c-.78.78-.78 2.05 0 2.83L4 21.41c.39.39.9.59 1.41.59.51 0 1.02-.2 1.41-.59l7.78-7.78 2.81-2.81c.8-.78.8-2.07 0-2.86zM5.41 20L4 18.59l7.72-7.72 1.47 1.35L5.41 20z\"/>\n",
              "  </svg>\n",
              "      </button>\n",
              "      \n",
              "  <style>\n",
              "    .colab-df-container {\n",
              "      display:flex;\n",
              "      flex-wrap:wrap;\n",
              "      gap: 12px;\n",
              "    }\n",
              "\n",
              "    .colab-df-convert {\n",
              "      background-color: #E8F0FE;\n",
              "      border: none;\n",
              "      border-radius: 50%;\n",
              "      cursor: pointer;\n",
              "      display: none;\n",
              "      fill: #1967D2;\n",
              "      height: 32px;\n",
              "      padding: 0 0 0 0;\n",
              "      width: 32px;\n",
              "    }\n",
              "\n",
              "    .colab-df-convert:hover {\n",
              "      background-color: #E2EBFA;\n",
              "      box-shadow: 0px 1px 2px rgba(60, 64, 67, 0.3), 0px 1px 3px 1px rgba(60, 64, 67, 0.15);\n",
              "      fill: #174EA6;\n",
              "    }\n",
              "\n",
              "    [theme=dark] .colab-df-convert {\n",
              "      background-color: #3B4455;\n",
              "      fill: #D2E3FC;\n",
              "    }\n",
              "\n",
              "    [theme=dark] .colab-df-convert:hover {\n",
              "      background-color: #434B5C;\n",
              "      box-shadow: 0px 1px 3px 1px rgba(0, 0, 0, 0.15);\n",
              "      filter: drop-shadow(0px 1px 2px rgba(0, 0, 0, 0.3));\n",
              "      fill: #FFFFFF;\n",
              "    }\n",
              "  </style>\n",
              "\n",
              "      <script>\n",
              "        const buttonEl =\n",
              "          document.querySelector('#df-3b0d1f3a-9769-4a82-af50-0cdfc92d730b button.colab-df-convert');\n",
              "        buttonEl.style.display =\n",
              "          google.colab.kernel.accessAllowed ? 'block' : 'none';\n",
              "\n",
              "        async function convertToInteractive(key) {\n",
              "          const element = document.querySelector('#df-3b0d1f3a-9769-4a82-af50-0cdfc92d730b');\n",
              "          const dataTable =\n",
              "            await google.colab.kernel.invokeFunction('convertToInteractive',\n",
              "                                                     [key], {});\n",
              "          if (!dataTable) return;\n",
              "\n",
              "          const docLinkHtml = 'Like what you see? Visit the ' +\n",
              "            '<a target=\"_blank\" href=https://colab.research.google.com/notebooks/data_table.ipynb>data table notebook</a>'\n",
              "            + ' to learn more about interactive tables.';\n",
              "          element.innerHTML = '';\n",
              "          dataTable['output_type'] = 'display_data';\n",
              "          await google.colab.output.renderOutput(dataTable, element);\n",
              "          const docLink = document.createElement('div');\n",
              "          docLink.innerHTML = docLinkHtml;\n",
              "          element.appendChild(docLink);\n",
              "        }\n",
              "      </script>\n",
              "    </div>\n",
              "  </div>\n",
              "  "
            ]
          },
          "metadata": {},
          "execution_count": 9
        }
      ]
    },
    {
      "cell_type": "markdown",
      "source": [
        "❖***Renombrar Columnas.*** Se renombran las columnas para obtener una lectura mas clara de los datos y en función del idioma en que se trabajará."
      ],
      "metadata": {
        "id": "OvxkTKtie4DL"
      }
    },
    {
      "cell_type": "code",
      "source": [
        "df = df.rename(columns={\"Make\": \"Fabricante\", \"Model\": \"Modelo\", \"Year\": \"Año\",\"Engine HP\": \"HP\", \"Engine Cylinders\": \"Cilindrada\", \"Transmission Type\": \"Cambios\", \"Driven_Wheels\": \"Traccion\", \"Vehicle Style\": \"Tipo\", \"MSRP\": \"Precio\" })\n",
        "df.head(5)"
      ],
      "metadata": {
        "colab": {
          "base_uri": "https://localhost:8080/",
          "height": 206
        },
        "id": "BOesB4-vhHkC",
        "outputId": "c8f8879c-c4d9-42a0-cbf5-459606d02910"
      },
      "execution_count": 14,
      "outputs": [
        {
          "output_type": "execute_result",
          "data": {
            "text/plain": [
              "  Fabricante      Modelo   Año     HP  Cilindrada Cambios          Traccion  \\\n",
              "0        BMW  1 Series M  2011  335.0         6.0  MANUAL  rear wheel drive   \n",
              "1        BMW    1 Series  2011  300.0         6.0  MANUAL  rear wheel drive   \n",
              "2        BMW    1 Series  2011  300.0         6.0  MANUAL  rear wheel drive   \n",
              "3        BMW    1 Series  2011  230.0         6.0  MANUAL  rear wheel drive   \n",
              "4        BMW    1 Series  2011  230.0         6.0  MANUAL  rear wheel drive   \n",
              "\n",
              "          Tipo  Precio  \n",
              "0        Coupe   46135  \n",
              "1  Convertible   40650  \n",
              "2        Coupe   36350  \n",
              "3        Coupe   29450  \n",
              "4  Convertible   34500  "
            ],
            "text/html": [
              "\n",
              "  <div id=\"df-e1f0f011-4398-4521-a126-b7b143df28a7\">\n",
              "    <div class=\"colab-df-container\">\n",
              "      <div>\n",
              "<style scoped>\n",
              "    .dataframe tbody tr th:only-of-type {\n",
              "        vertical-align: middle;\n",
              "    }\n",
              "\n",
              "    .dataframe tbody tr th {\n",
              "        vertical-align: top;\n",
              "    }\n",
              "\n",
              "    .dataframe thead th {\n",
              "        text-align: right;\n",
              "    }\n",
              "</style>\n",
              "<table border=\"1\" class=\"dataframe\">\n",
              "  <thead>\n",
              "    <tr style=\"text-align: right;\">\n",
              "      <th></th>\n",
              "      <th>Fabricante</th>\n",
              "      <th>Modelo</th>\n",
              "      <th>Año</th>\n",
              "      <th>HP</th>\n",
              "      <th>Cilindrada</th>\n",
              "      <th>Cambios</th>\n",
              "      <th>Traccion</th>\n",
              "      <th>Tipo</th>\n",
              "      <th>Precio</th>\n",
              "    </tr>\n",
              "  </thead>\n",
              "  <tbody>\n",
              "    <tr>\n",
              "      <th>0</th>\n",
              "      <td>BMW</td>\n",
              "      <td>1 Series M</td>\n",
              "      <td>2011</td>\n",
              "      <td>335.0</td>\n",
              "      <td>6.0</td>\n",
              "      <td>MANUAL</td>\n",
              "      <td>rear wheel drive</td>\n",
              "      <td>Coupe</td>\n",
              "      <td>46135</td>\n",
              "    </tr>\n",
              "    <tr>\n",
              "      <th>1</th>\n",
              "      <td>BMW</td>\n",
              "      <td>1 Series</td>\n",
              "      <td>2011</td>\n",
              "      <td>300.0</td>\n",
              "      <td>6.0</td>\n",
              "      <td>MANUAL</td>\n",
              "      <td>rear wheel drive</td>\n",
              "      <td>Convertible</td>\n",
              "      <td>40650</td>\n",
              "    </tr>\n",
              "    <tr>\n",
              "      <th>2</th>\n",
              "      <td>BMW</td>\n",
              "      <td>1 Series</td>\n",
              "      <td>2011</td>\n",
              "      <td>300.0</td>\n",
              "      <td>6.0</td>\n",
              "      <td>MANUAL</td>\n",
              "      <td>rear wheel drive</td>\n",
              "      <td>Coupe</td>\n",
              "      <td>36350</td>\n",
              "    </tr>\n",
              "    <tr>\n",
              "      <th>3</th>\n",
              "      <td>BMW</td>\n",
              "      <td>1 Series</td>\n",
              "      <td>2011</td>\n",
              "      <td>230.0</td>\n",
              "      <td>6.0</td>\n",
              "      <td>MANUAL</td>\n",
              "      <td>rear wheel drive</td>\n",
              "      <td>Coupe</td>\n",
              "      <td>29450</td>\n",
              "    </tr>\n",
              "    <tr>\n",
              "      <th>4</th>\n",
              "      <td>BMW</td>\n",
              "      <td>1 Series</td>\n",
              "      <td>2011</td>\n",
              "      <td>230.0</td>\n",
              "      <td>6.0</td>\n",
              "      <td>MANUAL</td>\n",
              "      <td>rear wheel drive</td>\n",
              "      <td>Convertible</td>\n",
              "      <td>34500</td>\n",
              "    </tr>\n",
              "  </tbody>\n",
              "</table>\n",
              "</div>\n",
              "      <button class=\"colab-df-convert\" onclick=\"convertToInteractive('df-e1f0f011-4398-4521-a126-b7b143df28a7')\"\n",
              "              title=\"Convert this dataframe to an interactive table.\"\n",
              "              style=\"display:none;\">\n",
              "        \n",
              "  <svg xmlns=\"http://www.w3.org/2000/svg\" height=\"24px\"viewBox=\"0 0 24 24\"\n",
              "       width=\"24px\">\n",
              "    <path d=\"M0 0h24v24H0V0z\" fill=\"none\"/>\n",
              "    <path d=\"M18.56 5.44l.94 2.06.94-2.06 2.06-.94-2.06-.94-.94-2.06-.94 2.06-2.06.94zm-11 1L8.5 8.5l.94-2.06 2.06-.94-2.06-.94L8.5 2.5l-.94 2.06-2.06.94zm10 10l.94 2.06.94-2.06 2.06-.94-2.06-.94-.94-2.06-.94 2.06-2.06.94z\"/><path d=\"M17.41 7.96l-1.37-1.37c-.4-.4-.92-.59-1.43-.59-.52 0-1.04.2-1.43.59L10.3 9.45l-7.72 7.72c-.78.78-.78 2.05 0 2.83L4 21.41c.39.39.9.59 1.41.59.51 0 1.02-.2 1.41-.59l7.78-7.78 2.81-2.81c.8-.78.8-2.07 0-2.86zM5.41 20L4 18.59l7.72-7.72 1.47 1.35L5.41 20z\"/>\n",
              "  </svg>\n",
              "      </button>\n",
              "      \n",
              "  <style>\n",
              "    .colab-df-container {\n",
              "      display:flex;\n",
              "      flex-wrap:wrap;\n",
              "      gap: 12px;\n",
              "    }\n",
              "\n",
              "    .colab-df-convert {\n",
              "      background-color: #E8F0FE;\n",
              "      border: none;\n",
              "      border-radius: 50%;\n",
              "      cursor: pointer;\n",
              "      display: none;\n",
              "      fill: #1967D2;\n",
              "      height: 32px;\n",
              "      padding: 0 0 0 0;\n",
              "      width: 32px;\n",
              "    }\n",
              "\n",
              "    .colab-df-convert:hover {\n",
              "      background-color: #E2EBFA;\n",
              "      box-shadow: 0px 1px 2px rgba(60, 64, 67, 0.3), 0px 1px 3px 1px rgba(60, 64, 67, 0.15);\n",
              "      fill: #174EA6;\n",
              "    }\n",
              "\n",
              "    [theme=dark] .colab-df-convert {\n",
              "      background-color: #3B4455;\n",
              "      fill: #D2E3FC;\n",
              "    }\n",
              "\n",
              "    [theme=dark] .colab-df-convert:hover {\n",
              "      background-color: #434B5C;\n",
              "      box-shadow: 0px 1px 3px 1px rgba(0, 0, 0, 0.15);\n",
              "      filter: drop-shadow(0px 1px 2px rgba(0, 0, 0, 0.3));\n",
              "      fill: #FFFFFF;\n",
              "    }\n",
              "  </style>\n",
              "\n",
              "      <script>\n",
              "        const buttonEl =\n",
              "          document.querySelector('#df-e1f0f011-4398-4521-a126-b7b143df28a7 button.colab-df-convert');\n",
              "        buttonEl.style.display =\n",
              "          google.colab.kernel.accessAllowed ? 'block' : 'none';\n",
              "\n",
              "        async function convertToInteractive(key) {\n",
              "          const element = document.querySelector('#df-e1f0f011-4398-4521-a126-b7b143df28a7');\n",
              "          const dataTable =\n",
              "            await google.colab.kernel.invokeFunction('convertToInteractive',\n",
              "                                                     [key], {});\n",
              "          if (!dataTable) return;\n",
              "\n",
              "          const docLinkHtml = 'Like what you see? Visit the ' +\n",
              "            '<a target=\"_blank\" href=https://colab.research.google.com/notebooks/data_table.ipynb>data table notebook</a>'\n",
              "            + ' to learn more about interactive tables.';\n",
              "          element.innerHTML = '';\n",
              "          dataTable['output_type'] = 'display_data';\n",
              "          await google.colab.output.renderOutput(dataTable, element);\n",
              "          const docLink = document.createElement('div');\n",
              "          docLink.innerHTML = docLinkHtml;\n",
              "          element.appendChild(docLink);\n",
              "        }\n",
              "      </script>\n",
              "    </div>\n",
              "  </div>\n",
              "  "
            ]
          },
          "metadata": {},
          "execution_count": 14
        }
      ]
    },
    {
      "cell_type": "markdown",
      "source": [
        "❖ ***Eliminar Columnas Duplicadas.*** En grandes conjuntos de datos, es muy probable que existan datos duplicados, los que afectan la validez de los análisis, por lo que es necesario revisar y eliminar aquellos duplicados."
      ],
      "metadata": {
        "id": "SmKWa2R6jpaa"
      }
    },
    {
      "cell_type": "code",
      "source": [
        "df.shape"
      ],
      "metadata": {
        "colab": {
          "base_uri": "https://localhost:8080/"
        },
        "id": "BBA7KTRMkR3l",
        "outputId": "27d230b0-7804-4f96-d0db-2d072554c11e"
      },
      "execution_count": 20,
      "outputs": [
        {
          "output_type": "execute_result",
          "data": {
            "text/plain": [
              "(11092, 9)"
            ]
          },
          "metadata": {},
          "execution_count": 20
        }
      ]
    },
    {
      "cell_type": "code",
      "source": [
        "duplicate_rows_df = df[df.duplicated()]\n",
        "print(\"Filas Duplicadas: \", duplicate_rows_df.shape)"
      ],
      "metadata": {
        "colab": {
          "base_uri": "https://localhost:8080/"
        },
        "id": "J-kwdiWrkZlK",
        "outputId": "3f2f79d2-7dd5-4e9d-d941-f97dec3e51f4"
      },
      "execution_count": 21,
      "outputs": [
        {
          "output_type": "stream",
          "name": "stdout",
          "text": [
            "Filas Duplicadas:  (0, 9)\n"
          ]
        }
      ]
    },
    {
      "cell_type": "markdown",
      "source": [
        "❖ ***Contamos el numero de filas***"
      ],
      "metadata": {
        "id": "FsgqS4h1l544"
      }
    },
    {
      "cell_type": "code",
      "source": [
        "df.count()      "
      ],
      "metadata": {
        "colab": {
          "base_uri": "https://localhost:8080/"
        },
        "id": "ij9w5bLilSm1",
        "outputId": "32e46cf2-4d68-4338-cf7f-4d5ab37f9abd"
      },
      "execution_count": 22,
      "outputs": [
        {
          "output_type": "execute_result",
          "data": {
            "text/plain": [
              "Fabricante    11092\n",
              "Modelo        11092\n",
              "Año           11092\n",
              "HP            11023\n",
              "Cilindrada    11062\n",
              "Cambios       11092\n",
              "Traccion      11092\n",
              "Tipo          11092\n",
              "Precio        11092\n",
              "dtype: int64"
            ]
          },
          "metadata": {},
          "execution_count": 22
        }
      ]
    },
    {
      "cell_type": "markdown",
      "source": [
        "❖ ***La cuenta nos muestra que hay 822 filas duplicadas, por lo que debn ser eliminadas***"
      ],
      "metadata": {
        "id": "WfwYXhpslsXo"
      }
    },
    {
      "cell_type": "code",
      "source": [
        "df = df.drop_duplicates()"
      ],
      "metadata": {
        "id": "lv4AraYHmbep"
      },
      "execution_count": 23,
      "outputs": []
    },
    {
      "cell_type": "markdown",
      "source": [
        "❖ ***Contamos otra vez el número de filas***"
      ],
      "metadata": {
        "id": "w98DRU2smde5"
      }
    },
    {
      "cell_type": "code",
      "source": [
        "df.count()"
      ],
      "metadata": {
        "colab": {
          "base_uri": "https://localhost:8080/"
        },
        "id": "xp4aDiq_mlPk",
        "outputId": "33ecff78-6912-48df-eb03-116c9df75fd3"
      },
      "execution_count": 24,
      "outputs": [
        {
          "output_type": "execute_result",
          "data": {
            "text/plain": [
              "Fabricante    11092\n",
              "Modelo        11092\n",
              "Año           11092\n",
              "HP            11023\n",
              "Cilindrada    11062\n",
              "Cambios       11092\n",
              "Traccion      11092\n",
              "Tipo          11092\n",
              "Precio        11092\n",
              "dtype: int64"
            ]
          },
          "metadata": {},
          "execution_count": 24
        }
      ]
    },
    {
      "cell_type": "markdown",
      "source": [
        "❖ ***Eliminar valores nulos o inexistentes.*** Los valores nulos o inexistentes se eliminarán ya que la cantidad de ellos no son relevantes en este análisis"
      ],
      "metadata": {
        "id": "7-9X1qOjnSVa"
      }
    },
    {
      "cell_type": "code",
      "source": [
        "print(df.isnull().sum())"
      ],
      "metadata": {
        "colab": {
          "base_uri": "https://localhost:8080/"
        },
        "id": "Xw8yblVWnxoF",
        "outputId": "213f0bff-990f-42c2-e17a-5acc74876dc1"
      },
      "execution_count": 25,
      "outputs": [
        {
          "output_type": "stream",
          "name": "stdout",
          "text": [
            "Fabricante     0\n",
            "Modelo         0\n",
            "Año            0\n",
            "HP            69\n",
            "Cilindrada    30\n",
            "Cambios        0\n",
            "Traccion       0\n",
            "Tipo           0\n",
            "Precio         0\n",
            "dtype: int64\n"
          ]
        }
      ]
    },
    {
      "cell_type": "markdown",
      "source": [
        "❖ ***El paso anterior muestra la cantidad de valores nulos o inexistentes en 2 columnas específicas.***"
      ],
      "metadata": {
        "id": "oq64kzoooETg"
      }
    },
    {
      "cell_type": "markdown",
      "source": [
        "❖ ***A continuación se eliminan esos valores.***\n"
      ],
      "metadata": {
        "id": "iVdBc5mpoP9H"
      }
    },
    {
      "cell_type": "code",
      "source": [
        "df = df.dropna()  "
      ],
      "metadata": {
        "id": "s8H4e60an_PN"
      },
      "execution_count": 26,
      "outputs": []
    },
    {
      "cell_type": "markdown",
      "source": [
        "❖ ***Se cuentan nuevamente las filas***"
      ],
      "metadata": {
        "id": "_nvKi8Fmoh1z"
      }
    },
    {
      "cell_type": "code",
      "source": [
        "df.count()"
      ],
      "metadata": {
        "colab": {
          "base_uri": "https://localhost:8080/"
        },
        "id": "uiY4Mev5omR1",
        "outputId": "55d26590-ce2f-4e38-c601-599b90fdd70c"
      },
      "execution_count": 27,
      "outputs": [
        {
          "output_type": "execute_result",
          "data": {
            "text/plain": [
              "Fabricante    10994\n",
              "Modelo        10994\n",
              "Año           10994\n",
              "HP            10994\n",
              "Cilindrada    10994\n",
              "Cambios       10994\n",
              "Traccion      10994\n",
              "Tipo          10994\n",
              "Precio        10994\n",
              "dtype: int64"
            ]
          },
          "metadata": {},
          "execution_count": 27
        }
      ]
    },
    {
      "cell_type": "markdown",
      "source": [
        "❖ ***Verificamos que no existan valores nulos o inexistentes.***"
      ],
      "metadata": {
        "id": "65IfA_f7pKrp"
      }
    },
    {
      "cell_type": "code",
      "source": [
        "print(df.isnull().sum())"
      ],
      "metadata": {
        "colab": {
          "base_uri": "https://localhost:8080/"
        },
        "id": "f9Yy30VepQew",
        "outputId": "f33d803b-8c4e-48a8-c7cf-299000da09b6"
      },
      "execution_count": 28,
      "outputs": [
        {
          "output_type": "stream",
          "name": "stdout",
          "text": [
            "Fabricante    0\n",
            "Modelo        0\n",
            "Año           0\n",
            "HP            0\n",
            "Cilindrada    0\n",
            "Cambios       0\n",
            "Traccion      0\n",
            "Tipo          0\n",
            "Precio        0\n",
            "dtype: int64\n"
          ]
        }
      ]
    },
    {
      "cell_type": "markdown",
      "source": [
        "❖ ***Búsqueda de valores atípicos o Outliers*** (Se utiliza el nuevo nombre de la columna)"
      ],
      "metadata": {
        "id": "AExpwhAIplzo"
      }
    },
    {
      "cell_type": "code",
      "source": [
        "sns.boxplot(x=df['Precio'])"
      ],
      "metadata": {
        "colab": {
          "base_uri": "https://localhost:8080/",
          "height": 302
        },
        "id": "YLqkCMyPp5a9",
        "outputId": "ef959192-0bcc-4adf-c0ab-b9a359f7735f"
      },
      "execution_count": 29,
      "outputs": [
        {
          "output_type": "execute_result",
          "data": {
            "text/plain": [
              "<matplotlib.axes._subplots.AxesSubplot at 0x7f8594ab6910>"
            ]
          },
          "metadata": {},
          "execution_count": 29
        },
        {
          "output_type": "display_data",
          "data": {
            "text/plain": [
              "<Figure size 432x288 with 1 Axes>"
            ],
            "image/png": "[encoded data removed]"
          },
          "metadata": {
            "needs_background": "light"
          }
        }
      ]
    },
    {
      "cell_type": "code",
      "source": [
        "sns.boxplot(x=df['HP'])"
      ],
      "metadata": {
        "colab": {
          "base_uri": "https://localhost:8080/",
          "height": 302
        },
        "id": "0cddBtomqHBD",
        "outputId": "82fc7bd1-22d2-4f78-95de-0f4e28afd1dc"
      },
      "execution_count": 30,
      "outputs": [
        {
          "output_type": "execute_result",
          "data": {
            "text/plain": [
              "<matplotlib.axes._subplots.AxesSubplot at 0x7f85949d1a10>"
            ]
          },
          "metadata": {},
          "execution_count": 30
        },
        {
          "output_type": "display_data",
          "data": {
            "text/plain": [
              "<Figure size 432x288 with 1 Axes>"
            ],
            "image/png": "[encoded data removed]"
          },
          "metadata": {
            "needs_background": "light"
          }
        }
      ]
    },
    {
      "cell_type": "code",
      "source": [
        "sns.boxplot(x=df['Cilindrada'])"
      ],
      "metadata": {
        "colab": {
          "base_uri": "https://localhost:8080/",
          "height": 302
        },
        "id": "wlnST2HhqLyU",
        "outputId": "7e77991e-0229-427d-c2ea-c8dc966039f9"
      },
      "execution_count": 31,
      "outputs": [
        {
          "output_type": "execute_result",
          "data": {
            "text/plain": [
              "<matplotlib.axes._subplots.AxesSubplot at 0x7f85944fbb50>"
            ]
          },
          "metadata": {},
          "execution_count": 31
        },
        {
          "output_type": "display_data",
          "data": {
            "text/plain": [
              "<Figure size 432x288 with 1 Axes>"
            ],
            "image/png": "[encoded data removed]"
          },
          "metadata": {
            "needs_background": "light"
          }
        }
      ]
    },
    {
      "cell_type": "code",
      "source": [
        "Q1 = df.quantile(0.25)\n",
        "Q3 = df.quantile(0.75)\n",
        "IQR = Q3 - Q1\n",
        "print(IQR)"
      ],
      "metadata": {
        "colab": {
          "base_uri": "https://localhost:8080/"
        },
        "id": "wGtj9ebLqSru",
        "outputId": "46b2abc2-0338-4f45-a8a2-11c5ee9db55f"
      },
      "execution_count": 32,
      "outputs": [
        {
          "output_type": "stream",
          "name": "stdout",
          "text": [
            "Año               9.00\n",
            "HP              130.00\n",
            "Cilindrada        2.00\n",
            "Precio        21443.75\n",
            "dtype: float64\n"
          ]
        }
      ]
    },
    {
      "cell_type": "code",
      "source": [
        "df = df[~((df < (Q1 - 1.5 * IQR)) |(df > (Q3 + 1.5 * IQR))).any(axis=1)]\n",
        "df.shape"
      ],
      "metadata": {
        "colab": {
          "base_uri": "https://localhost:8080/"
        },
        "id": "SdTdfxE8qbzV",
        "outputId": "8743aae7-de86-4d9d-9e14-be7421974b9d"
      },
      "execution_count": 36,
      "outputs": [
        {
          "output_type": "execute_result",
          "data": {
            "text/plain": [
              "(9548, 9)"
            ]
          },
          "metadata": {},
          "execution_count": 36
        }
      ]
    },
    {
      "cell_type": "markdown",
      "source": [
        "❖ ***Se han removido los valores atípicos, aunque es posible que nos encontremos con alguno sin remover, pero en atención a la cantidad inicial, es esperable.***"
      ],
      "metadata": {
        "id": "escwz3ZFr7Qz"
      }
    },
    {
      "cell_type": "markdown",
      "source": [
        "❖ ***Representación gráfica de varias caracteríticas de los vehículos***"
      ],
      "metadata": {
        "id": "hIVnJT9msNhl"
      }
    },
    {
      "cell_type": "markdown",
      "source": [
        " ***HISTOGRAMA.*** Un histograma es una representación gráfica de una variable en forma de barras y nos permite ver cómo se distribuyen los valores de la variable en estudio, en este caso, la cantidad de vehículos por fabricante."
      ],
      "metadata": {
        "id": "k7-dJXrnshlq"
      }
    },
    {
      "cell_type": "code",
      "source": [
        "df.Fabricante.value_counts().nlargest(40).plot(kind='bar', figsize=(10,5))\n",
        "plt.title(\"Vehículos por Fabricante\")\n",
        "plt.ylabel('Cantidad de Vehículos')\n",
        "plt.xlabel('Fabricante');"
      ],
      "metadata": {
        "colab": {
          "base_uri": "https://localhost:8080/",
          "height": 428
        },
        "id": "IeXh-C__slEW",
        "outputId": "457006a8-69dd-42ea-d0bd-cc6bb4a6f082"
      },
      "execution_count": 38,
      "outputs": [
        {
          "output_type": "display_data",
          "data": {
            "text/plain": [
              "<Figure size 720x360 with 1 Axes>"
            ],
            "image/png": "[encoded data removed]"
          },
          "metadata": {}
        }
      ]
    },
    {
      "cell_type": "markdown",
      "source": [
        "***GRÁFICO DE DISPERSIÓN (SCATTERPLOT).*** Los gráficos de dispersión se usan para averiguar la intensidad de la relación entre dos variables numéricas. El eje **X** representa la variable independiente, mientras que el eje **Y** representa la variable dependiente. De este modo, permite estudiar las relaciones que existen entre dos factores, problemas o causas relacionadas con la calidad, o un problema de calidad y su posible causa. En este caso, se utlizará la relación entre los \"caballos de fuerza\"(HP) y el precio."
      ],
      "metadata": {
        "id": "z_2VqrCVuOFm"
      }
    },
    {
      "cell_type": "code",
      "source": [
        "fig, ax = plt.subplots(figsize=(10,6))\n",
        "ax.scatter(df['HP'], df['Precio'])\n",
        "ax.set_xlabel('HP')\n",
        "ax.set_ylabel('Precio')\n",
        "plt.show()"
      ],
      "metadata": {
        "colab": {
          "base_uri": "https://localhost:8080/",
          "height": 394
        },
        "id": "TSDwNeR8vGNU",
        "outputId": "dd086ee0-c5a9-47a6-8ede-16e2ea68aaee"
      },
      "execution_count": 39,
      "outputs": [
        {
          "output_type": "display_data",
          "data": {
            "text/plain": [
              "<Figure size 720x432 with 1 Axes>"
            ],
            "image/png": "[encoded data removed]"
          },
          "metadata": {}
        }
      ]
    }
  ]
}